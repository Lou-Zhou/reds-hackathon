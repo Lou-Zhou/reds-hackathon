{
 "cells": [
  {
   "cell_type": "code",
   "execution_count": 2,
   "metadata": {},
   "outputs": [
    {
     "data": {
      "text/html": [
       "<div><style>\n",
       ".dataframe > thead > tr,\n",
       ".dataframe > tbody > tr {\n",
       "  text-align: right;\n",
       "  white-space: pre-wrap;\n",
       "}\n",
       "</style>\n",
       "<small>shape: (2_136_337, 89)</small><table border=\"1\" class=\"dataframe\"><thead><tr><th>pitch_type</th><th>game_date</th><th>release_speed</th><th>release_pos_x</th><th>release_pos_z</th><th>batter</th><th>pitcher</th><th>events</th><th>description</th><th>zone</th><th>game_type</th><th>stand</th><th>p_throws</th><th>home_team</th><th>away_team</th><th>type</th><th>hit_location</th><th>bb_type</th><th>balls</th><th>strikes</th><th>game_year</th><th>pfx_x</th><th>pfx_z</th><th>plate_x</th><th>plate_z</th><th>on_3b</th><th>on_2b</th><th>on_1b</th><th>outs_when_up</th><th>inning</th><th>inning_topbot</th><th>hc_x</th><th>hc_y</th><th>fielder_2</th><th>sv_id</th><th>vx0</th><th>vy0</th><th>&hellip;</th><th>fielder_3</th><th>fielder_4</th><th>fielder_5</th><th>fielder_6</th><th>fielder_7</th><th>fielder_8</th><th>fielder_9</th><th>release_pos_y</th><th>estimated_ba_using_speedangle</th><th>estimated_woba_using_speedangle</th><th>woba_value</th><th>woba_denom</th><th>babip_value</th><th>iso_value</th><th>launch_speed_angle</th><th>at_bat_number</th><th>pitch_number</th><th>pitch_name</th><th>home_score</th><th>away_score</th><th>bat_score</th><th>fld_score</th><th>post_away_score</th><th>post_home_score</th><th>post_bat_score</th><th>post_fld_score</th><th>if_fielding_alignment</th><th>of_fielding_alignment</th><th>spin_axis</th><th>delta_home_win_exp</th><th>delta_run_exp</th><th>role_key</th><th>sp_indicator</th><th>rp_indicator</th><th>pitch_number_appearance</th><th>pitcher_at_bat_number</th><th>times_faced</th></tr><tr><td>str</td><td>str</td><td>f64</td><td>f64</td><td>f64</td><td>str</td><td>str</td><td>str</td><td>str</td><td>i64</td><td>str</td><td>str</td><td>str</td><td>str</td><td>str</td><td>str</td><td>i64</td><td>str</td><td>i64</td><td>i64</td><td>i64</td><td>f64</td><td>f64</td><td>f64</td><td>f64</td><td>str</td><td>str</td><td>str</td><td>i64</td><td>i64</td><td>str</td><td>f64</td><td>f64</td><td>str</td><td>str</td><td>f64</td><td>f64</td><td>&hellip;</td><td>str</td><td>str</td><td>str</td><td>str</td><td>str</td><td>str</td><td>str</td><td>f64</td><td>f64</td><td>f64</td><td>f64</td><td>i64</td><td>i64</td><td>i64</td><td>i64</td><td>i64</td><td>i64</td><td>str</td><td>i64</td><td>i64</td><td>i64</td><td>i64</td><td>i64</td><td>i64</td><td>i64</td><td>i64</td><td>str</td><td>str</td><td>i64</td><td>f64</td><td>f64</td><td>str</td><td>i64</td><td>i64</td><td>i64</td><td>i64</td><td>i64</td></tr></thead><tbody><tr><td>&quot;FF&quot;</td><td>&quot;2021-04-05&quot;</td><td>93.2</td><td>0.84</td><td>5.74</td><td>&quot;c7c83eaa9fe8da2f81c5fce172059a…</td><td>&quot;4f902241478a103f7a818f5be9a7b7…</td><td>&quot;strikeout&quot;</td><td>&quot;swinging_strike&quot;</td><td>13</td><td>&quot;R&quot;</td><td>&quot;L&quot;</td><td>&quot;L&quot;</td><td>&quot;e58e9c0fd276f0c175345b6d952a9e…</td><td>&quot;ae2caea4bb1f46b714e35f0176994f…</td><td>&quot;S&quot;</td><td>2</td><td>null</td><td>3</td><td>2</td><td>2021</td><td>0.43</td><td>1.57</td><td>-0.05</td><td>1.41</td><td>null</td><td>null</td><td>null</td><td>2</td><td>6</td><td>&quot;Bot&quot;</td><td>null</td><td>null</td><td>&quot;55bd3201fa7465188c2c70169f2e94…</td><td>null</td><td>-3.263176</td><td>-135.5206</td><td>&hellip;</td><td>&quot;c04bfbc3f42ec36472468471b3a716…</td><td>&quot;7694076619c298b4556297b20afaf8…</td><td>&quot;17cbce1de7a9d4e31952e86ba69ced…</td><td>&quot;b135b247f1afd053b201fc7c434493…</td><td>&quot;fa9c99ce9acb5fd5971e8fb834d745…</td><td>&quot;53dfe414229803162d14787d30fbf4…</td><td>&quot;9b52235d7b694738421b6c2ed9271e…</td><td>53.47</td><td>null</td><td>null</td><td>0.0</td><td>1</td><td>0</td><td>0</td><td>null</td><td>47</td><td>7</td><td>&quot;4-Seam Fastball&quot;</td><td>0</td><td>2</td><td>0</td><td>2</td><td>2</td><td>0</td><td>0</td><td>2</td><td>&quot;Infield shift&quot;</td><td>&quot;Standard&quot;</td><td>166</td><td>-0.014</td><td>-0.134</td><td>&quot;SP&quot;</td><td>1</td><td>0</td><td>97</td><td>22</td><td>3</td></tr><tr><td>&quot;SL&quot;</td><td>&quot;2021-04-05&quot;</td><td>82.9</td><td>1.03</td><td>5.69</td><td>&quot;c7c83eaa9fe8da2f81c5fce172059a…</td><td>&quot;4f902241478a103f7a818f5be9a7b7…</td><td>null</td><td>&quot;foul&quot;</td><td>5</td><td>&quot;R&quot;</td><td>&quot;L&quot;</td><td>&quot;L&quot;</td><td>&quot;e58e9c0fd276f0c175345b6d952a9e…</td><td>&quot;ae2caea4bb1f46b714e35f0176994f…</td><td>&quot;S&quot;</td><td>null</td><td>null</td><td>3</td><td>2</td><td>2021</td><td>-0.42</td><td>-0.34</td><td>0.09</td><td>2.24</td><td>null</td><td>null</td><td>null</td><td>2</td><td>6</td><td>&quot;Bot&quot;</td><td>null</td><td>null</td><td>&quot;55bd3201fa7465188c2c70169f2e94…</td><td>null</td><td>-1.343797</td><td>-120.739091</td><td>&hellip;</td><td>&quot;c04bfbc3f42ec36472468471b3a716…</td><td>&quot;7694076619c298b4556297b20afaf8…</td><td>&quot;17cbce1de7a9d4e31952e86ba69ced…</td><td>&quot;b135b247f1afd053b201fc7c434493…</td><td>&quot;fa9c99ce9acb5fd5971e8fb834d745…</td><td>&quot;53dfe414229803162d14787d30fbf4…</td><td>&quot;9b52235d7b694738421b6c2ed9271e…</td><td>53.66</td><td>null</td><td>null</td><td>null</td><td>null</td><td>null</td><td>null</td><td>null</td><td>47</td><td>6</td><td>&quot;Slider&quot;</td><td>0</td><td>2</td><td>0</td><td>2</td><td>2</td><td>0</td><td>0</td><td>2</td><td>&quot;Infield shift&quot;</td><td>&quot;Standard&quot;</td><td>309</td><td>0.0</td><td>0.0</td><td>&quot;SP&quot;</td><td>1</td><td>0</td><td>96</td><td>22</td><td>3</td></tr><tr><td>&quot;FF&quot;</td><td>&quot;2021-04-05&quot;</td><td>94.6</td><td>-1.85</td><td>5.77</td><td>&quot;514eeb6e6c17085fc1adabf03f1adc…</td><td>&quot;afb9b85defc6fe5c3f48681480eff4…</td><td>&quot;caught_stealing_3b&quot;</td><td>&quot;ball&quot;</td><td>14</td><td>&quot;R&quot;</td><td>&quot;R&quot;</td><td>&quot;R&quot;</td><td>&quot;3c4ec083bb4b200556718068a3cea7…</td><td>&quot;284da2e9c8943a9faa155f56f0faaa…</td><td>&quot;B&quot;</td><td>2</td><td>null</td><td>2</td><td>2</td><td>2021</td><td>-0.56</td><td>1.53</td><td>2.01</td><td>1.92</td><td>null</td><td>&quot;c8f1ff43c331519aab03daab36b84b…</td><td>null</td><td>2</td><td>4</td><td>&quot;Top&quot;</td><td>null</td><td>null</td><td>&quot;3103eeddc91e18c223c7ef4d3c12f2…</td><td>null</td><td>11.292119</td><td>-137.173707</td><td>&hellip;</td><td>&quot;a9b53974ac34cd7c03133051645ef4…</td><td>&quot;c3b12c33078b6ce2f0c8287913cd68…</td><td>&quot;88a241e142df6a547f9188eb81f5c2…</td><td>&quot;c1efd3145c820257fae2347ff56758…</td><td>&quot;4f6c643961e8df8f6d76d136b13ba2…</td><td>&quot;a7ab335ba29a72bc194f77b694f23b…</td><td>&quot;ccbeebb83e2f368d70aca48df9d3ca…</td><td>54.12</td><td>null</td><td>null</td><td>0.0</td><td>0</td><td>0</td><td>0</td><td>null</td><td>28</td><td>6</td><td>&quot;4-Seam Fastball&quot;</td><td>0</td><td>4</td><td>4</td><td>0</td><td>4</td><td>0</td><td>4</td><td>0</td><td>&quot;Standard&quot;</td><td>&quot;Standard&quot;</td><td>220</td><td>0.014</td><td>-0.202</td><td>&quot;SP&quot;</td><td>1</td><td>0</td><td>95</td><td>19</td><td>3</td></tr><tr><td>&quot;FF&quot;</td><td>&quot;2021-04-05&quot;</td><td>97.1</td><td>1.86</td><td>6.57</td><td>&quot;875eeca87c6f80182a88c2a7b92c04…</td><td>&quot;0f061b9439845159c394a71e55d635…</td><td>&quot;field_out&quot;</td><td>&quot;hit_into_play&quot;</td><td>13</td><td>&quot;R&quot;</td><td>&quot;R&quot;</td><td>&quot;L&quot;</td><td>&quot;8499d67c7ea3ce9671a0574ff23364…</td><td>&quot;febb17c5596d048b6a6a4eea23cfe0…</td><td>&quot;X&quot;</td><td>7</td><td>&quot;line_drive&quot;</td><td>3</td><td>2</td><td>2021</td><td>0.75</td><td>1.56</td><td>-0.84</td><td>2.21</td><td>null</td><td>null</td><td>&quot;29df9634e71f12ec4754b370e647db…</td><td>2</td><td>5</td><td>&quot;Bot&quot;</td><td>90.32</td><td>88.66</td><td>&quot;c4db34402ba417ae6cc0cf8eca1c05…</td><td>null</td><td>-8.928735</td><td>-140.780154</td><td>&hellip;</td><td>&quot;80f3a94c7bf1ed6397017744dbb75f…</td><td>&quot;121048ecdf300d2ec18b79f9632d2e…</td><td>&quot;0f46bb1ed363d593af42cfddbe0279…</td><td>&quot;47a816f9460d1e5742d9b2e7aa73e3…</td><td>&quot;8b56a85ee94ae8780f6ded359e6dfe…</td><td>&quot;bc3c71dc19d09389180e0fcbdc1420…</td><td>&quot;09e6f8d367dd945ef1b220557afde3…</td><td>54.08</td><td>0.234</td><td>0.211</td><td>0.0</td><td>1</td><td>0</td><td>0</td><td>3</td><td>48</td><td>6</td><td>&quot;4-Seam Fastball&quot;</td><td>0</td><td>6</td><td>0</td><td>6</td><td>6</td><td>0</td><td>0</td><td>6</td><td>&quot;Standard&quot;</td><td>&quot;Standard&quot;</td><td>147</td><td>-0.007</td><td>-0.264</td><td>&quot;SP&quot;</td><td>1</td><td>0</td><td>95</td><td>22</td><td>3</td></tr><tr><td>&quot;FF&quot;</td><td>&quot;2021-04-05&quot;</td><td>93.6</td><td>0.6</td><td>5.85</td><td>&quot;c7c83eaa9fe8da2f81c5fce172059a…</td><td>&quot;4f902241478a103f7a818f5be9a7b7…</td><td>null</td><td>&quot;ball&quot;</td><td>11</td><td>&quot;R&quot;</td><td>&quot;L&quot;</td><td>&quot;L&quot;</td><td>&quot;e58e9c0fd276f0c175345b6d952a9e…</td><td>&quot;ae2caea4bb1f46b714e35f0176994f…</td><td>&quot;B&quot;</td><td>null</td><td>null</td><td>2</td><td>2</td><td>2021</td><td>0.37</td><td>1.53</td><td>-1.5</td><td>3.27</td><td>null</td><td>null</td><td>null</td><td>2</td><td>6</td><td>&quot;Bot&quot;</td><td>null</td><td>null</td><td>&quot;55bd3201fa7465188c2c70169f2e94…</td><td>null</td><td>-6.325447</td><td>-136.14144</td><td>&hellip;</td><td>&quot;c04bfbc3f42ec36472468471b3a716…</td><td>&quot;7694076619c298b4556297b20afaf8…</td><td>&quot;17cbce1de7a9d4e31952e86ba69ced…</td><td>&quot;b135b247f1afd053b201fc7c434493…</td><td>&quot;fa9c99ce9acb5fd5971e8fb834d745…</td><td>&quot;53dfe414229803162d14787d30fbf4…</td><td>&quot;9b52235d7b694738421b6c2ed9271e…</td><td>53.45</td><td>null</td><td>null</td><td>null</td><td>null</td><td>null</td><td>null</td><td>null</td><td>47</td><td>5</td><td>&quot;4-Seam Fastball&quot;</td><td>0</td><td>2</td><td>0</td><td>2</td><td>2</td><td>0</td><td>0</td><td>2</td><td>&quot;Infield shift&quot;</td><td>&quot;Standard&quot;</td><td>164</td><td>0.0</td><td>0.043</td><td>&quot;SP&quot;</td><td>1</td><td>0</td><td>95</td><td>22</td><td>3</td></tr><tr><td>&hellip;</td><td>&hellip;</td><td>&hellip;</td><td>&hellip;</td><td>&hellip;</td><td>&hellip;</td><td>&hellip;</td><td>&hellip;</td><td>&hellip;</td><td>&hellip;</td><td>&hellip;</td><td>&hellip;</td><td>&hellip;</td><td>&hellip;</td><td>&hellip;</td><td>&hellip;</td><td>&hellip;</td><td>&hellip;</td><td>&hellip;</td><td>&hellip;</td><td>&hellip;</td><td>&hellip;</td><td>&hellip;</td><td>&hellip;</td><td>&hellip;</td><td>&hellip;</td><td>&hellip;</td><td>&hellip;</td><td>&hellip;</td><td>&hellip;</td><td>&hellip;</td><td>&hellip;</td><td>&hellip;</td><td>&hellip;</td><td>&hellip;</td><td>&hellip;</td><td>&hellip;</td><td>&hellip;</td><td>&hellip;</td><td>&hellip;</td><td>&hellip;</td><td>&hellip;</td><td>&hellip;</td><td>&hellip;</td><td>&hellip;</td><td>&hellip;</td><td>&hellip;</td><td>&hellip;</td><td>&hellip;</td><td>&hellip;</td><td>&hellip;</td><td>&hellip;</td><td>&hellip;</td><td>&hellip;</td><td>&hellip;</td><td>&hellip;</td><td>&hellip;</td><td>&hellip;</td><td>&hellip;</td><td>&hellip;</td><td>&hellip;</td><td>&hellip;</td><td>&hellip;</td><td>&hellip;</td><td>&hellip;</td><td>&hellip;</td><td>&hellip;</td><td>&hellip;</td><td>&hellip;</td><td>&hellip;</td><td>&hellip;</td><td>&hellip;</td><td>&hellip;</td><td>&hellip;</td><td>&hellip;</td></tr><tr><td>&quot;SI&quot;</td><td>&quot;2023-05-26&quot;</td><td>90.2</td><td>-1.7</td><td>3.83</td><td>&quot;ceeeda3bde736c0c656b03be05b458…</td><td>&quot;da2331420ceeaeed96ab885543ca5a…</td><td>null</td><td>&quot;called_strike&quot;</td><td>5</td><td>&quot;R&quot;</td><td>&quot;R&quot;</td><td>&quot;R&quot;</td><td>&quot;f8a902b067d4344b687920f92c669b…</td><td>&quot;51b1902abf71664a2f900ecb07fa72…</td><td>&quot;S&quot;</td><td>null</td><td>null</td><td>0</td><td>0</td><td>2023</td><td>-1.74</td><td>0.18</td><td>0.09</td><td>2.34</td><td>null</td><td>null</td><td>null</td><td>0</td><td>7</td><td>&quot;Top&quot;</td><td>null</td><td>null</td><td>&quot;00fb2414b8f5bcdec5e0398176d9c7…</td><td>null</td><td>8.335259</td><td>-130.934792</td><td>&hellip;</td><td>&quot;8fe5068677f925b38c5c2fd0db4d9d…</td><td>&quot;e0e1f107a95934a3912271c175a205…</td><td>&quot;e3943e72463136e12a58a619566752…</td><td>&quot;cf993dd84435caf547c2881dfb5391…</td><td>&quot;0ad2e5cf1e052b219e6b8b806a56a9…</td><td>&quot;43e789a2c98c9229310d406b78f236…</td><td>&quot;8e279ef4dafa65d4db8b0d74ae3db9…</td><td>53.05</td><td>null</td><td>null</td><td>null</td><td>null</td><td>null</td><td>null</td><td>null</td><td>55</td><td>1</td><td>&quot;Sinker&quot;</td><td>6</td><td>2</td><td>2</td><td>6</td><td>2</td><td>6</td><td>2</td><td>6</td><td>&quot;Standard&quot;</td><td>&quot;Standard&quot;</td><td>245</td><td>0.0</td><td>-0.038</td><td>&quot;RP&quot;</td><td>0</td><td>1</td><td>1</td><td>1</td><td>1</td></tr><tr><td>&quot;SL&quot;</td><td>&quot;2023-05-26&quot;</td><td>88.3</td><td>3.13</td><td>5.19</td><td>&quot;7788ff0375c64348d36ae12869506a…</td><td>&quot;1039ef0b36a4d7d4c2e9b7b6c2084b…</td><td>null</td><td>&quot;called_strike&quot;</td><td>8</td><td>&quot;R&quot;</td><td>&quot;R&quot;</td><td>&quot;L&quot;</td><td>&quot;e66cd4507ba3fa0204fc859bbdef72…</td><td>&quot;e4f86cca4cda0cb144aadefb628801…</td><td>&quot;S&quot;</td><td>null</td><td>null</td><td>0</td><td>0</td><td>2023</td><td>-0.33</td><td>0.08</td><td>0.04</td><td>2.19</td><td>null</td><td>null</td><td>null</td><td>0</td><td>7</td><td>&quot;Bot&quot;</td><td>null</td><td>null</td><td>&quot;8fc15777ba7771d58f5b6315b8f94e…</td><td>null</td><td>-6.867943</td><td>-128.510904</td><td>&hellip;</td><td>&quot;02608b1a3a44adacbae06ceb30accc…</td><td>&quot;383e94bde2444fafd3a346803843c1…</td><td>&quot;3be2036301de316fb26e54cffdaab0…</td><td>&quot;87758f0175a131b8836b7c378aad17…</td><td>&quot;cfb77e4ebc7045cf47eaaadcb12ec0…</td><td>&quot;c8f1ff43c331519aab03daab36b84b…</td><td>&quot;9b52235d7b694738421b6c2ed9271e…</td><td>53.89</td><td>null</td><td>null</td><td>null</td><td>null</td><td>null</td><td>null</td><td>null</td><td>63</td><td>1</td><td>&quot;Slider&quot;</td><td>2</td><td>5</td><td>2</td><td>5</td><td>5</td><td>2</td><td>2</td><td>5</td><td>&quot;Standard&quot;</td><td>&quot;Standard&quot;</td><td>238</td><td>0.0</td><td>-0.038</td><td>&quot;RP&quot;</td><td>0</td><td>1</td><td>1</td><td>1</td><td>1</td></tr><tr><td>&quot;FF&quot;</td><td>&quot;2023-05-26&quot;</td><td>89.7</td><td>1.1</td><td>5.73</td><td>&quot;0f46bb1ed363d593af42cfddbe0279…</td><td>&quot;c6020d12585d4a0d7b1babd840c54f…</td><td>null</td><td>&quot;ball&quot;</td><td>12</td><td>&quot;R&quot;</td><td>&quot;R&quot;</td><td>&quot;L&quot;</td><td>&quot;4425babf86abaf8a5bf60e209d22ab…</td><td>&quot;febb17c5596d048b6a6a4eea23cfe0…</td><td>&quot;B&quot;</td><td>null</td><td>null</td><td>0</td><td>0</td><td>2023</td><td>0.83</td><td>1.6</td><td>1.2</td><td>2.98</td><td>null</td><td>null</td><td>null</td><td>0</td><td>7</td><td>&quot;Top&quot;</td><td>null</td><td>null</td><td>&quot;da5ce67803a8039d079ca666c6885e…</td><td>null</td><td>-1.51701</td><td>-130.565791</td><td>&hellip;</td><td>&quot;9dc0903fd6704325b19057c6733c91…</td><td>&quot;a38914d08a6bce0ecbc6501e3ed2cd…</td><td>&quot;5e2471543554c6e6c724baab37d616…</td><td>&quot;04919f19fd9c50566716c96ff5f061…</td><td>&quot;afdd2d59d3b9ffcdbb589f38b24ccb…</td><td>&quot;e9be24005794e6057fc482ec31d0d2…</td><td>&quot;726f300105ad69d160d0835fbbaaa4…</td><td>54.03</td><td>null</td><td>null</td><td>null</td><td>null</td><td>null</td><td>null</td><td>null</td><td>58</td><td>1</td><td>&quot;4-Seam Fastball&quot;</td><td>3</td><td>8</td><td>8</td><td>3</td><td>8</td><td>3</td><td>8</td><td>3</td><td>&quot;Infield shade&quot;</td><td>&quot;Standard&quot;</td><td>147</td><td>0.0</td><td>0.036</td><td>&quot;RP&quot;</td><td>0</td><td>1</td><td>1</td><td>1</td><td>1</td></tr><tr><td>&quot;FF&quot;</td><td>&quot;2023-05-26&quot;</td><td>92.6</td><td>1.21</td><td>6.25</td><td>&quot;75174627fd934205ab7d1905d926b5…</td><td>&quot;9a1d0691f34a0c9c1899f3c29af366…</td><td>null</td><td>&quot;called_strike&quot;</td><td>13</td><td>&quot;R&quot;</td><td>&quot;L&quot;</td><td>&quot;L&quot;</td><td>&quot;f8a902b067d4344b687920f92c669b…</td><td>&quot;51b1902abf71664a2f900ecb07fa72…</td><td>&quot;S&quot;</td><td>null</td><td>null</td><td>0</td><td>0</td><td>2023</td><td>-0.44</td><td>1.69</td><td>-1.13</td><td>1.84</td><td>null</td><td>&quot;8f207761a5d661092d192327d82b31…</td><td>&quot;750c81e420c154073dac06495b619e…</td><td>2</td><td>7</td><td>&quot;Top&quot;</td><td>null</td><td>null</td><td>&quot;00fb2414b8f5bcdec5e0398176d9c7…</td><td>null</td><td>-5.070476</td><td>-134.585652</td><td>&hellip;</td><td>&quot;8fe5068677f925b38c5c2fd0db4d9d…</td><td>&quot;e0e1f107a95934a3912271c175a205…</td><td>&quot;e3943e72463136e12a58a619566752…</td><td>&quot;cf993dd84435caf547c2881dfb5391…</td><td>&quot;0ad2e5cf1e052b219e6b8b806a56a9…</td><td>&quot;43e789a2c98c9229310d406b78f236…</td><td>&quot;8e279ef4dafa65d4db8b0d74ae3db9…</td><td>53.31</td><td>null</td><td>null</td><td>null</td><td>null</td><td>null</td><td>null</td><td>null</td><td>59</td><td>1</td><td>&quot;4-Seam Fastball&quot;</td><td>6</td><td>2</td><td>2</td><td>6</td><td>2</td><td>6</td><td>2</td><td>6</td><td>&quot;Standard&quot;</td><td>&quot;Standard&quot;</td><td>184</td><td>0.0</td><td>-0.063</td><td>&quot;RP&quot;</td><td>0</td><td>1</td><td>1</td><td>1</td><td>1</td></tr><tr><td>&quot;FF&quot;</td><td>&quot;2023-05-26&quot;</td><td>93.2</td><td>-2.67</td><td>5.67</td><td>&quot;45d36ea42f77f2310144ec094c7914…</td><td>&quot;bcf797f96bb77f5e3735d453c1519a…</td><td>null</td><td>&quot;called_strike&quot;</td><td>1</td><td>&quot;R&quot;</td><td>&quot;L&quot;</td><td>&quot;R&quot;</td><td>&quot;0c9d125b39f8a674cee51c774d4f14…</td><td>&quot;60a907084eefb120b3bf4b331add6a…</td><td>&quot;S&quot;</td><td>null</td><td>null</td><td>0</td><td>0</td><td>2023</td><td>-0.39</td><td>1.38</td><td>-0.35</td><td>3.35</td><td>null</td><td>null</td><td>null</td><td>0</td><td>1</td><td>&quot;Top&quot;</td><td>null</td><td>null</td><td>&quot;60d2bfeff46813f4c3274c522d417b…</td><td>null</td><td>6.844056</td><td>-135.65965</td><td>&hellip;</td><td>&quot;37bfaeb9268f9389dfa6157b48b8c7…</td><td>&quot;31124d5ebc4f33645d00953e45c18e…</td><td>&quot;638fe76b18bac2774f3650b9516324…</td><td>&quot;2923b2767d40064620b34fd192dd7a…</td><td>&quot;f3c630ebe41ac25d09598aa8d2038c…</td><td>&quot;550f85b6d95890392ee22d2d9e9b75…</td><td>&quot;cb619f0f5f6b317a44988779b7e821…</td><td>53.79</td><td>null</td><td>null</td><td>null</td><td>null</td><td>null</td><td>null</td><td>null</td><td>1</td><td>1</td><td>&quot;4-Seam Fastball&quot;</td><td>0</td><td>0</td><td>0</td><td>0</td><td>0</td><td>0</td><td>0</td><td>0</td><td>&quot;Standard&quot;</td><td>&quot;Standard&quot;</td><td>221</td><td>0.0</td><td>-0.038</td><td>&quot;SP&quot;</td><td>1</td><td>0</td><td>1</td><td>1</td><td>1</td></tr></tbody></table></div>"
      ],
      "text/plain": [
       "shape: (2_136_337, 89)\n",
       "┌───────────┬───────────┬───────────┬───────────┬───┬───────────┬───────────┬───────────┬──────────┐\n",
       "│ pitch_typ ┆ game_date ┆ release_s ┆ release_p ┆ … ┆ rp_indica ┆ pitch_num ┆ pitcher_a ┆ times_fa │\n",
       "│ e         ┆ ---       ┆ peed      ┆ os_x      ┆   ┆ tor       ┆ ber_appea ┆ t_bat_num ┆ ced      │\n",
       "│ ---       ┆ str       ┆ ---       ┆ ---       ┆   ┆ ---       ┆ rance     ┆ ber       ┆ ---      │\n",
       "│ str       ┆           ┆ f64       ┆ f64       ┆   ┆ i64       ┆ ---       ┆ ---       ┆ i64      │\n",
       "│           ┆           ┆           ┆           ┆   ┆           ┆ i64       ┆ i64       ┆          │\n",
       "╞═══════════╪═══════════╪═══════════╪═══════════╪═══╪═══════════╪═══════════╪═══════════╪══════════╡\n",
       "│ FF        ┆ 2021-04-0 ┆ 93.2      ┆ 0.84      ┆ … ┆ 0         ┆ 97        ┆ 22        ┆ 3        │\n",
       "│           ┆ 5         ┆           ┆           ┆   ┆           ┆           ┆           ┆          │\n",
       "│ SL        ┆ 2021-04-0 ┆ 82.9      ┆ 1.03      ┆ … ┆ 0         ┆ 96        ┆ 22        ┆ 3        │\n",
       "│           ┆ 5         ┆           ┆           ┆   ┆           ┆           ┆           ┆          │\n",
       "│ FF        ┆ 2021-04-0 ┆ 94.6      ┆ -1.85     ┆ … ┆ 0         ┆ 95        ┆ 19        ┆ 3        │\n",
       "│           ┆ 5         ┆           ┆           ┆   ┆           ┆           ┆           ┆          │\n",
       "│ FF        ┆ 2021-04-0 ┆ 97.1      ┆ 1.86      ┆ … ┆ 0         ┆ 95        ┆ 22        ┆ 3        │\n",
       "│           ┆ 5         ┆           ┆           ┆   ┆           ┆           ┆           ┆          │\n",
       "│ FF        ┆ 2021-04-0 ┆ 93.6      ┆ 0.6       ┆ … ┆ 0         ┆ 95        ┆ 22        ┆ 3        │\n",
       "│           ┆ 5         ┆           ┆           ┆   ┆           ┆           ┆           ┆          │\n",
       "│ …         ┆ …         ┆ …         ┆ …         ┆ … ┆ …         ┆ …         ┆ …         ┆ …        │\n",
       "│ SI        ┆ 2023-05-2 ┆ 90.2      ┆ -1.7      ┆ … ┆ 1         ┆ 1         ┆ 1         ┆ 1        │\n",
       "│           ┆ 6         ┆           ┆           ┆   ┆           ┆           ┆           ┆          │\n",
       "│ SL        ┆ 2023-05-2 ┆ 88.3      ┆ 3.13      ┆ … ┆ 1         ┆ 1         ┆ 1         ┆ 1        │\n",
       "│           ┆ 6         ┆           ┆           ┆   ┆           ┆           ┆           ┆          │\n",
       "│ FF        ┆ 2023-05-2 ┆ 89.7      ┆ 1.1       ┆ … ┆ 1         ┆ 1         ┆ 1         ┆ 1        │\n",
       "│           ┆ 6         ┆           ┆           ┆   ┆           ┆           ┆           ┆          │\n",
       "│ FF        ┆ 2023-05-2 ┆ 92.6      ┆ 1.21      ┆ … ┆ 1         ┆ 1         ┆ 1         ┆ 1        │\n",
       "│           ┆ 6         ┆           ┆           ┆   ┆           ┆           ┆           ┆          │\n",
       "│ FF        ┆ 2023-05-2 ┆ 93.2      ┆ -2.67     ┆ … ┆ 0         ┆ 1         ┆ 1         ┆ 1        │\n",
       "│           ┆ 6         ┆           ┆           ┆   ┆           ┆           ┆           ┆          │\n",
       "└───────────┴───────────┴───────────┴───────────┴───┴───────────┴───────────┴───────────┴──────────┘"
      ]
     },
     "execution_count": 2,
     "metadata": {},
     "output_type": "execute_result"
    }
   ],
   "source": [
    "import polars as pl\n",
    "import numpy as np\n",
    "bio = pl.read_csv(\"lahman_people.csv\")\n",
    "pbp = pl.read_csv(\"savant_data_2021_2023.csv\")\n",
    "pbp"
   ]
  },
  {
   "cell_type": "code",
   "execution_count": 143,
   "metadata": {},
   "outputs": [
    {
     "data": {
      "text/html": [
       "<div><style>\n",
       ".dataframe > thead > tr,\n",
       ".dataframe > tbody > tr {\n",
       "  text-align: right;\n",
       "  white-space: pre-wrap;\n",
       "}\n",
       "</style>\n",
       "<small>shape: (1_339, 4)</small><table border=\"1\" class=\"dataframe\"><thead><tr><th>batter</th><th>2023</th><th>2021</th><th>2022</th></tr><tr><td>str</td><td>u32</td><td>u32</td><td>u32</td></tr></thead><tbody><tr><td>&quot;5b6b35fcf313a1e12256b4632795a0…</td><td>455</td><td>674</td><td>670</td></tr><tr><td>&quot;a540f5b1639f7c7d09108c6893fb30…</td><td>547</td><td>588</td><td>671</td></tr><tr><td>&quot;4380853322f8572ba35d3a2e8b25f8…</td><td>null</td><td>636</td><td>617</td></tr><tr><td>&quot;9dc0903fd6704325b19057c6733c91…</td><td>685</td><td>null</td><td>404</td></tr><tr><td>&quot;3ffca17a704b2bdd7b912cacb3c528…</td><td>null</td><td>5</td><td>null</td></tr><tr><td>&hellip;</td><td>&hellip;</td><td>&hellip;</td><td>&hellip;</td></tr><tr><td>&quot;6abe653fe11a79a725382f995ad6d2…</td><td>40</td><td>null</td><td>null</td></tr><tr><td>&quot;2d2f3ff492dab091a66dacfc0d50b4…</td><td>175</td><td>null</td><td>null</td></tr><tr><td>&quot;827135b2373b76725e3861585e8180…</td><td>null</td><td>20</td><td>null</td></tr><tr><td>&quot;4f7603e640bcb514becb8be97bf4e5…</td><td>null</td><td>33</td><td>null</td></tr><tr><td>&quot;913da07ac6083c646f98219a1b1cca…</td><td>null</td><td>32</td><td>null</td></tr></tbody></table></div>"
      ],
      "text/plain": [
       "shape: (1_339, 4)\n",
       "┌─────────────────────────────────┬──────┬──────┬──────┐\n",
       "│ batter                          ┆ 2023 ┆ 2021 ┆ 2022 │\n",
       "│ ---                             ┆ ---  ┆ ---  ┆ ---  │\n",
       "│ str                             ┆ u32  ┆ u32  ┆ u32  │\n",
       "╞═════════════════════════════════╪══════╪══════╪══════╡\n",
       "│ 5b6b35fcf313a1e12256b4632795a0… ┆ 455  ┆ 674  ┆ 670  │\n",
       "│ a540f5b1639f7c7d09108c6893fb30… ┆ 547  ┆ 588  ┆ 671  │\n",
       "│ 4380853322f8572ba35d3a2e8b25f8… ┆ null ┆ 636  ┆ 617  │\n",
       "│ 9dc0903fd6704325b19057c6733c91… ┆ 685  ┆ null ┆ 404  │\n",
       "│ 3ffca17a704b2bdd7b912cacb3c528… ┆ null ┆ 5    ┆ null │\n",
       "│ …                               ┆ …    ┆ …    ┆ …    │\n",
       "│ 6abe653fe11a79a725382f995ad6d2… ┆ 40   ┆ null ┆ null │\n",
       "│ 2d2f3ff492dab091a66dacfc0d50b4… ┆ 175  ┆ null ┆ null │\n",
       "│ 827135b2373b76725e3861585e8180… ┆ null ┆ 20   ┆ null │\n",
       "│ 4f7603e640bcb514becb8be97bf4e5… ┆ null ┆ 33   ┆ null │\n",
       "│ 913da07ac6083c646f98219a1b1cca… ┆ null ┆ 32   ┆ null │\n",
       "└─────────────────────────────────┴──────┴──────┴──────┘"
      ]
     },
     "execution_count": 143,
     "metadata": {},
     "output_type": "execute_result"
    }
   ],
   "source": [
    "def get_counts(data, type):#janky way to do this?\n",
    "    \"\"\"\n",
    "    Gets count of playing time\n",
    "    data - df of interest\n",
    "    type - whether batter or pitcher\n",
    "    \"\"\"\n",
    "    return (data\n",
    "            .group_by(type,'game_pk', 'at_bat_number', 'game_year')\n",
    "            .len().group_by(type, 'game_year').len()\n",
    "            .rename({\"len\":\"PA\"}).pivot('game_year', index = type, values = 'PA'))\n",
    "batterAB = pbp.pipe(get_counts, 'batter')\n",
    "pitcherBF = pbp.pipe(get_counts, 'pitcher')\n",
    "batterAB"
   ]
  },
  {
   "cell_type": "code",
   "execution_count": 122,
   "metadata": {},
   "outputs": [
    {
     "data": {
      "text/plain": [
       "(154.9507660967016, 190.61133075412496)"
      ]
     },
     "execution_count": 122,
     "metadata": {},
     "output_type": "execute_result"
    }
   ],
   "source": [
    "from sklearn.model_selection import train_test_split \n",
    "from sklearn.linear_model import LinearRegression \n",
    "from sklearn.metrics import root_mean_squared_error\n",
    "#running linear regression of past 2 seasons to apply to 2023 - about as good as expected(pretty bad)\n",
    "def test_model_sklearn(model, data, x, y):\n",
    "    X_train, X_test, y_train, y_test = train_test_split(data.select(x), data.select(y), test_size = 0.25, random_state = 42) \n",
    "    #use random_state=42!!\n",
    "    model.fit(X_train, y_train)\n",
    "    y_pred = model.predict(X_test) \n",
    "    return root_mean_squared_error(y_pred, y_test)\n",
    "test_model_sklearn(LinearRegression(), batterAB.drop_nulls(), ['2022', '2021'], ['2023']), test_model_sklearn(LinearRegression(), pitcherBF.drop_nulls(), ['2022', '2021'], ['2023'])\n",
    "#similar to averaging method - expected due to nature of MLR \n",
    "#baseline to beat: batter: 154.9507660967016, pitcher: 190.61133075412496"
   ]
  },
  {
   "cell_type": "code",
   "execution_count": 124,
   "metadata": {},
   "outputs": [
    {
     "data": {
      "text/plain": [
       "(178.68480531577185, 175.54575174805603)"
      ]
     },
     "execution_count": 124,
     "metadata": {},
     "output_type": "execute_result"
    }
   ],
   "source": [
    "def get_means(data):\n",
    "    #using average of 2022, 2021 data to estimate 2023 data\n",
    "    return (data.with_columns(pl.mean_horizontal(['2022', '2021'])\n",
    "                                    .alias('row_mean')).drop_nulls(['2023', 'row_mean'])\n",
    "                                    .select(['2023', 'row_mean']))\n",
    "batter_test, batter_mean = batterAB.pipe(get_means)\n",
    "pitcher_test, pitcher_mean = pitcherBF.pipe(get_means)\n",
    "root_mean_squared_error(batter_test, batter_mean), root_mean_squared_error(pitcher_test, pitcher_mean)\n",
    "#mean method: 178.68480531577185, 175.54575174805603 - about same as MLR method"
   ]
  },
  {
   "cell_type": "code",
   "execution_count": 163,
   "metadata": {},
   "outputs": [
    {
     "data": {
      "text/plain": [
       "(108.16645006899171, 104.5259354514329)"
      ]
     },
     "execution_count": 163,
     "metadata": {},
     "output_type": "execute_result"
    }
   ],
   "source": [
    "#need to predict nulls - looking at MICE\n",
    "from sklearn.experimental import enable_iterative_imputer\n",
    "from sklearn.impute import IterativeImputer\n",
    "from sklearn.linear_model import BayesianRidge\n",
    "from sklearn.tree import DecisionTreeRegressor\n",
    "from sklearn.neighbors import KNeighborsRegressor\n",
    "def imputeData(estimator, batterdf, pitcherdf, max_iter = 200, random_state = 42):\n",
    "    imputer = IterativeImputer(estimator = estimator, max_iter=max_iter, random_state=random_state)\n",
    "    batterABimputed = (pl.DataFrame(imputer.fit_transform(\n",
    "        batterdf.select(\"2023\", \"2022\", \"2021\")), schema = [\"2023\", \"2022\", \"2021\"]).with_columns(\n",
    "            batter = batterAB.get_column(\"batter\")\n",
    "    ))\n",
    "    pitcherBFimputed = (pl.DataFrame(imputer.fit_transform(\n",
    "        pitcherdf.select(\"2023\", \"2022\", \"2021\")), schema = [\"2023\", \"2022\", \"2021\"]).with_columns(\n",
    "            pitcher = pitcherBF.get_column(\"pitcher\")\n",
    "    ))\n",
    "    return batterABimputed, pitcherBFimputed\n",
    "batterimp, pitcherimp = imputeData(BayesianRidge(), batterAB, pitcherBF)#Bayesian Seems Best - actually converges\n",
    "#batterimp, pitcherimp = imputeData(DecisionTreeRegressor(), batterAB, pitcherBF, max_iter = 2000)\n",
    "#batterimp, pitcherimp = imputeData(KNeighborsRegressor(), batterAB, pitcherBF, max_iter = 2000)\n",
    "test_model_sklearn(LinearRegression(), batterimp, ['2022', '2021'], ['2023']), test_model_sklearn(LinearRegression(), pitcherimp, ['2022', '2021'], ['2023'])\n",
    "#MLR with imputation yields batter: 108.16645006899171, pitcher: 104.5259354514329\n"
   ]
  }
 ],
 "metadata": {
  "kernelspec": {
   "display_name": "base",
   "language": "python",
   "name": "python3"
  },
  "language_info": {
   "codemirror_mode": {
    "name": "ipython",
    "version": 3
   },
   "file_extension": ".py",
   "mimetype": "text/x-python",
   "name": "python",
   "nbconvert_exporter": "python",
   "pygments_lexer": "ipython3",
   "version": "3.11.7"
  }
 },
 "nbformat": 4,
 "nbformat_minor": 2
}
